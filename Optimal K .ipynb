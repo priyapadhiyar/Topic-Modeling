{
 "cells": [
  {
   "cell_type": "code",
   "execution_count": 4,
   "metadata": {},
   "outputs": [
    {
     "name": "stderr",
     "output_type": "stream",
     "text": [
      "[nltk_data] Downloading package stopwords to /Users/priya/nltk_data...\n",
      "[nltk_data]   Package stopwords is already up-to-date!\n"
     ]
    }
   ],
   "source": [
    "# Run in python console\n",
    "import nltk; nltk.download('stopwords')\n",
    "\n",
    "# Run in terminal or command prompt\n",
    "import spacy"
   ]
  },
  {
   "cell_type": "code",
   "execution_count": 5,
   "metadata": {},
   "outputs": [],
   "source": [
    "# Regex\n",
    "import re\n",
    "import numpy as np\n",
    "import pandas as pd\n",
    "from pprint import pprint\n",
    "\n",
    "# Gensim\n",
    "import gensim\n",
    "import gensim.corpora as corpora\n",
    "from gensim.utils import simple_preprocess\n",
    "from gensim.models import CoherenceModel\n",
    "\n",
    "# spacy for lemmatization\n",
    "import spacy\n",
    "\n",
    "\n",
    "# Plotting tools\n",
    "import pyLDAvis\n",
    "import pyLDAvis.gensim  # don't skip this\n",
    "import matplotlib.pyplot as plt\n",
    "%matplotlib inline\n",
    "\n",
    "# Enable logging for gensim - optional\n",
    "import logging\n",
    "logging.basicConfig(format='%(asctime)s : %(levelname)s : %(message)s', level=logging.ERROR)\n",
    "\n",
    "import warnings\n",
    "warnings.filterwarnings(\"ignore\",category=DeprecationWarning)"
   ]
  },
  {
   "cell_type": "code",
   "execution_count": 6,
   "metadata": {},
   "outputs": [],
   "source": [
    "# NLTK Stop words\n",
    "from nltk.corpus import stopwords\n",
    "stop_words = stopwords.words('english')\n",
    "stop_words.extend(['from', 'subject', 're', 'edu', 'use'])"
   ]
  },
  {
   "cell_type": "code",
   "execution_count": 7,
   "metadata": {},
   "outputs": [
    {
     "name": "stdout",
     "output_type": "stream",
     "text": [
      "['rec.autos' 'comp.sys.mac.hardware' 'comp.graphics' 'sci.space'\n",
      " 'talk.politics.guns' 'sci.med' 'comp.sys.ibm.pc.hardware'\n",
      " 'comp.os.ms-windows.misc' 'rec.motorcycles' 'talk.religion.misc'\n",
      " 'misc.forsale' 'alt.atheism' 'sci.electronics' 'comp.windows.x'\n",
      " 'rec.sport.hockey' 'rec.sport.baseball' 'soc.religion.christian'\n",
      " 'talk.politics.mideast' 'talk.politics.misc' 'sci.crypt']\n"
     ]
    },
    {
     "data": {
      "text/html": [
       "<div>\n",
       "<style scoped>\n",
       "    .dataframe tbody tr th:only-of-type {\n",
       "        vertical-align: middle;\n",
       "    }\n",
       "\n",
       "    .dataframe tbody tr th {\n",
       "        vertical-align: top;\n",
       "    }\n",
       "\n",
       "    .dataframe thead th {\n",
       "        text-align: right;\n",
       "    }\n",
       "</style>\n",
       "<table border=\"1\" class=\"dataframe\">\n",
       "  <thead>\n",
       "    <tr style=\"text-align: right;\">\n",
       "      <th></th>\n",
       "      <th>content</th>\n",
       "      <th>target</th>\n",
       "      <th>target_names</th>\n",
       "    </tr>\n",
       "  </thead>\n",
       "  <tbody>\n",
       "    <tr>\n",
       "      <th>0</th>\n",
       "      <td>From: lerxst@wam.umd.edu (where's my thing)\\nS...</td>\n",
       "      <td>7</td>\n",
       "      <td>rec.autos</td>\n",
       "    </tr>\n",
       "    <tr>\n",
       "      <th>1</th>\n",
       "      <td>From: guykuo@carson.u.washington.edu (Guy Kuo)...</td>\n",
       "      <td>4</td>\n",
       "      <td>comp.sys.mac.hardware</td>\n",
       "    </tr>\n",
       "    <tr>\n",
       "      <th>2</th>\n",
       "      <td>From: twillis@ec.ecn.purdue.edu (Thomas E Will...</td>\n",
       "      <td>4</td>\n",
       "      <td>comp.sys.mac.hardware</td>\n",
       "    </tr>\n",
       "    <tr>\n",
       "      <th>3</th>\n",
       "      <td>From: jgreen@amber (Joe Green)\\nSubject: Re: W...</td>\n",
       "      <td>1</td>\n",
       "      <td>comp.graphics</td>\n",
       "    </tr>\n",
       "    <tr>\n",
       "      <th>4</th>\n",
       "      <td>From: jcm@head-cfa.harvard.edu (Jonathan McDow...</td>\n",
       "      <td>14</td>\n",
       "      <td>sci.space</td>\n",
       "    </tr>\n",
       "  </tbody>\n",
       "</table>\n",
       "</div>"
      ],
      "text/plain": [
       "                                             content  target  \\\n",
       "0  From: lerxst@wam.umd.edu (where's my thing)\\nS...       7   \n",
       "1  From: guykuo@carson.u.washington.edu (Guy Kuo)...       4   \n",
       "2  From: twillis@ec.ecn.purdue.edu (Thomas E Will...       4   \n",
       "3  From: jgreen@amber (Joe Green)\\nSubject: Re: W...       1   \n",
       "4  From: jcm@head-cfa.harvard.edu (Jonathan McDow...      14   \n",
       "\n",
       "            target_names  \n",
       "0              rec.autos  \n",
       "1  comp.sys.mac.hardware  \n",
       "2  comp.sys.mac.hardware  \n",
       "3          comp.graphics  \n",
       "4              sci.space  "
      ]
     },
     "execution_count": 7,
     "metadata": {},
     "output_type": "execute_result"
    }
   ],
   "source": [
    "# Import Dataset\n",
    "df = pd.read_json('https://raw.githubusercontent.com/selva86/datasets/master/newsgroups.json')\n",
    "print(df.target_names.unique())\n",
    "df.head()"
   ]
  },
  {
   "cell_type": "code",
   "execution_count": 8,
   "metadata": {},
   "outputs": [],
   "source": [
    "# Convert to list\n",
    "data = df.content.values.tolist()\n",
    "\n",
    "# Remove Emails\n",
    "data = [re.sub('\\S*@\\S*\\s?', '', sent) for sent in data]\n",
    "\n",
    "# Remove new line characters\n",
    "data = [re.sub('\\s+', ' ', sent) for sent in data]\n",
    "\n",
    "# Remove distracting single quotes\n",
    "data = [re.sub(\"\\'\", \"\", sent) for sent in data]\n",
    "\n",
    "\n"
   ]
  },
  {
   "cell_type": "code",
   "execution_count": 10,
   "metadata": {},
   "outputs": [
    {
     "name": "stdout",
     "output_type": "stream",
     "text": [
      "[['from', 'wheres', 'my', 'thing', 'subject', 'what', 'car', 'is', 'this', 'nntp', 'posting', 'host', 'rac', 'wam', 'umd', 'edu', 'organization', 'university', 'of', 'maryland', 'college', 'park', 'lines', 'was', 'wondering', 'if', 'anyone', 'out', 'there', 'could', 'enlighten', 'me', 'on', 'this', 'car', 'saw', 'the', 'other', 'day', 'it', 'was', 'door', 'sports', 'car', 'looked', 'to', 'be', 'from', 'the', 'late', 'early', 'it', 'was', 'called', 'bricklin', 'the', 'doors', 'were', 'really', 'small', 'in', 'addition', 'the', 'front', 'bumper', 'was', 'separate', 'from', 'the', 'rest', 'of', 'the', 'body', 'this', 'is', 'all', 'know', 'if', 'anyone', 'can', 'tellme', 'model', 'name', 'engine', 'specs', 'years', 'of', 'production', 'where', 'this', 'car', 'is', 'made', 'history', 'or', 'whatever', 'info', 'you', 'have', 'on', 'this', 'funky', 'looking', 'car', 'please', 'mail', 'thanks', 'il', 'brought', 'to', 'you', 'by', 'your', 'neighborhood', 'lerxst']]\n"
     ]
    }
   ],
   "source": [
    "def sent_to_words(sentences):\n",
    "    for sentence in sentences:\n",
    "        yield(gensim.utils.simple_preprocess(str(sentence), deacc=True))  # deacc=True removes punctuations\n",
    "\n",
    "data_words = list(sent_to_words(data))\n",
    "\n",
    "print(data_words[:1])"
   ]
  },
  {
   "cell_type": "code",
   "execution_count": 11,
   "metadata": {},
   "outputs": [
    {
     "name": "stdout",
     "output_type": "stream",
     "text": [
      "['from', 'wheres', 'my', 'thing', 'subject', 'what', 'car', 'is', 'this', 'nntp_posting_host', 'rac_wam_umd_edu', 'organization', 'university', 'of', 'maryland_college_park', 'lines', 'was', 'wondering', 'if', 'anyone', 'out', 'there', 'could', 'enlighten', 'me', 'on', 'this', 'car', 'saw', 'the', 'other', 'day', 'it', 'was', 'door', 'sports', 'car', 'looked', 'to', 'be', 'from', 'the', 'late', 'early', 'it', 'was', 'called', 'bricklin', 'the', 'doors', 'were', 'really', 'small', 'in', 'addition', 'the', 'front_bumper', 'was', 'separate', 'from', 'the', 'rest', 'of', 'the', 'body', 'this', 'is', 'all', 'know', 'if', 'anyone', 'can', 'tellme', 'model', 'name', 'engine', 'specs', 'years', 'of', 'production', 'where', 'this', 'car', 'is', 'made', 'history', 'or', 'whatever', 'info', 'you', 'have', 'on', 'this', 'funky', 'looking', 'car', 'please', 'mail', 'thanks', 'il', 'brought', 'to', 'you', 'by', 'your', 'neighborhood', 'lerxst']\n"
     ]
    }
   ],
   "source": [
    "# Build the bigram and trigram models\n",
    "bigram = gensim.models.Phrases(data_words, min_count=5, threshold=100) # higher threshold fewer phrases.\n",
    "trigram = gensim.models.Phrases(bigram[data_words], threshold=100)  \n",
    "\n",
    "# Faster way to get a sentence clubbed as a trigram/bigram [same Output can be received by just using the above code as well]\n",
    "bigram_mod = gensim.models.phrases.Phraser(bigram)\n",
    "trigram_mod = gensim.models.phrases.Phraser(trigram)\n",
    "\n",
    "# See trigram example\n",
    "print(trigram_mod[bigram_mod[data_words[0]]])"
   ]
  },
  {
   "cell_type": "code",
   "execution_count": 12,
   "metadata": {},
   "outputs": [],
   "source": [
    "# Define functions for stopwords, bigrams, trigrams and lemmatization\n",
    "def remove_stopwords(texts):\n",
    "    return [[word for word in simple_preprocess(str(doc)) if word not in stop_words] for doc in texts]\n",
    "\n",
    "def make_bigrams(texts):\n",
    "    return [bigram_mod[doc] for doc in texts]\n",
    "\n",
    "def make_trigrams(texts):\n",
    "    return [trigram_mod[bigram_mod[doc]] for doc in texts]\n",
    "\n",
    "def lemmatization(texts, allowed_postags=['NOUN', 'ADJ', 'VERB', 'ADV']):\n",
    "    \"\"\"https://spacy.io/api/annotation\"\"\"\n",
    "    texts_out = []\n",
    "    for sent in texts:\n",
    "        doc = nlp(\" \".join(sent)) \n",
    "        texts_out.append([token.lemma_ for token in doc if token.pos_ in allowed_postags])\n",
    "    return texts_out"
   ]
  },
  {
   "cell_type": "code",
   "execution_count": 13,
   "metadata": {},
   "outputs": [
    {
     "name": "stdout",
     "output_type": "stream",
     "text": [
      "[['where', 'thing', 'car', 'nntp_poste', 'host', 'park', 'line', 'wonder', 'could', 'enlighten', 'car', 'see', 'day', 'door', 'sport', 'car', 'look', 'late', 'early', 'call', 'door', 'really', 'small', 'addition', 'separate', 'rest', 'body', 'know', 'model', 'name', 'engine', 'spec', 'year', 'production', 'car', 'make', 'history', 'info', 'funky', 'look', 'car', 'mail', 'thank', 'bring', 'neighborhood', 'lerxst']]\n"
     ]
    }
   ],
   "source": [
    "# Remove Stop Words\n",
    "data_words_nostops = remove_stopwords(data_words)\n",
    "\n",
    "# Form Bigrams\n",
    "data_words_bigrams = make_bigrams(data_words_nostops)\n",
    "\n",
    "# Initialize spacy 'en' model, keeping only tagger component (for efficiency)\n",
    "# python3 -m spacy download en\n",
    "nlp = spacy.load('en', disable=['parser', 'ner'])\n",
    "\n",
    "# Do lemmatization keeping only noun, adj, vb, adv\n",
    "data_lemmatized = lemmatization(data_words_bigrams, allowed_postags=['NOUN', 'ADJ', 'VERB', 'ADV'])\n",
    "\n",
    "print(data_lemmatized[:1])"
   ]
  },
  {
   "cell_type": "code",
   "execution_count": 14,
   "metadata": {},
   "outputs": [
    {
     "name": "stdout",
     "output_type": "stream",
     "text": [
      "[[(0, 1), (1, 1), (2, 1), (3, 1), (4, 5), (5, 1), (6, 1), (7, 2), (8, 1), (9, 1), (10, 1), (11, 1), (12, 1), (13, 1), (14, 1), (15, 1), (16, 1), (17, 1), (18, 1), (19, 2), (20, 1), (21, 1), (22, 1), (23, 1), (24, 1), (25, 1), (26, 1), (27, 1), (28, 1), (29, 1), (30, 1), (31, 1), (32, 1), (33, 1), (34, 1), (35, 1), (36, 1), (37, 1), (38, 1), (39, 1)]]\n"
     ]
    }
   ],
   "source": [
    "# Create Dictionary\n",
    "id2word = corpora.Dictionary(data_lemmatized)\n",
    "\n",
    "# Create Corpus\n",
    "texts = data_lemmatized\n",
    "\n",
    "# Term Document Frequency\n",
    "corpus = [id2word.doc2bow(text) for text in texts]\n",
    "\n",
    "# View\n",
    "print(corpus[:1])"
   ]
  },
  {
   "cell_type": "code",
   "execution_count": 16,
   "metadata": {},
   "outputs": [],
   "source": [
    "# Build LDA model\n",
    "lda_model = gensim.models.ldamodel.LdaModel(corpus=corpus,\n",
    "                                           id2word=id2word,\n",
    "                                           num_topics=20, \n",
    "                                           random_state=200,\n",
    "                                           update_every=1,\n",
    "                                           chunksize=200,\n",
    "                                           passes=20,\n",
    "                                           alpha='auto',\n",
    "                                           per_word_topics=True)"
   ]
  },
  {
   "cell_type": "code",
   "execution_count": 17,
   "metadata": {},
   "outputs": [
    {
     "name": "stdout",
     "output_type": "stream",
     "text": [
      "[(0,\n",
      "  '0.039*\"believe\" + 0.036*\"religion\" + 0.034*\"man\" + 0.030*\"faith\" + '\n",
      "  '0.030*\"christian\"'),\n",
      " (1,\n",
      "  '0.023*\"child\" + 0.023*\"people\" + 0.021*\"war\" + 0.021*\"kill\" + '\n",
      "  '0.019*\"publish\"'),\n",
      " (2,\n",
      "  '0.022*\"space\" + 0.019*\"high\" + 0.016*\"cost\" + 0.016*\"power\" + 0.014*\"low\"'),\n",
      " (3,\n",
      "  '0.022*\"people\" + 0.015*\"say\" + 0.013*\"may\" + 0.010*\"mean\" + 0.010*\"many\"'),\n",
      " (4,\n",
      "  '0.151*\"file\" + 0.067*\"image\" + 0.039*\"format\" + 0.037*\"page\" + '\n",
      "  '0.028*\"picture\"'),\n",
      " (5,\n",
      "  '0.096*\"team\" + 0.082*\"game\" + 0.050*\"year\" + 0.041*\"win\" + 0.027*\"score\"'),\n",
      " (6,\n",
      "  '0.020*\"line\" + 0.020*\"thank\" + 0.019*\"program\" + 0.017*\"include\" + '\n",
      "  '0.016*\"mail\"'),\n",
      " (7,\n",
      "  '0.051*\"drug\" + 0.040*\"pin\" + 0.033*\"univ\" + 0.031*\"pain\" + 0.031*\"patient\"'),\n",
      " (8, '0.074*\"sin\" + 0.069*\"scsi\" + 0.049*\"ide\" + 0.044*\"pen\" + 0.040*\"cd\"'),\n",
      " (9,\n",
      "  '0.102*\"entry\" + 0.052*\"sun\" + 0.041*\"rule\" + 0.027*\"setup\" + '\n",
      "  '0.027*\"decent\"'),\n",
      " (10,\n",
      "  '0.184*\"drive\" + 0.121*\"car\" + 0.037*\"bike\" + 0.035*\"tape\" + 0.029*\"ride\"'),\n",
      " (11,\n",
      "  '0.906*\"ax\" + 0.005*\"wise\" + 0.002*\"superstition\" + 0.002*\"mh\" + '\n",
      "  '0.002*\"rlk\"'),\n",
      " (12,\n",
      "  '0.151*\"gun\" + 0.077*\"fire\" + 0.051*\"crime\" + 0.046*\"kill\" + '\n",
      "  '0.032*\"criminal\"'),\n",
      " (13,\n",
      "  '0.066*\"player\" + 0.055*\"play\" + 0.041*\"hockey\" + 0.041*\"season\" + '\n",
      "  '0.034*\"hit\"'),\n",
      " (14,\n",
      "  '0.038*\"prediction\" + 0.033*\"ad\" + 0.032*\"constitution\" + 0.032*\"surprise\" + '\n",
      "  '0.026*\"sky\"'),\n",
      " (15,\n",
      "  '0.029*\"write\" + 0.027*\"line\" + 0.024*\"would\" + 0.017*\"know\" + '\n",
      "  '0.017*\"article\"'),\n",
      " (16,\n",
      "  '0.122*\"window\" + 0.071*\"driver\" + 0.065*\"color\" + 0.039*\"screen\" + '\n",
      "  '0.038*\"mode\"'),\n",
      " (17,\n",
      "  '0.048*\"system\" + 0.033*\"use\" + 0.024*\"bit\" + 0.022*\"card\" + '\n",
      "  '0.019*\"computer\"'),\n",
      " (18,\n",
      "  '0.041*\"key\" + 0.030*\"government\" + 0.025*\"state\" + 0.023*\"public\" + '\n",
      "  '0.017*\"right\"'),\n",
      " (19,\n",
      "  '0.051*\"excellent\" + 0.045*\"college\" + 0.045*\"devil\" + 0.037*\"workstation\" + '\n",
      "  '0.023*\"spec\"')]\n"
     ]
    }
   ],
   "source": [
    "# Print the Keyword in the 10 topics\n",
    "pprint(lda_model.print_topics(num_topics=20, num_words=5))\n",
    "doc_lda = lda_model[corpus]"
   ]
  },
  {
   "cell_type": "code",
   "execution_count": 19,
   "metadata": {},
   "outputs": [
    {
     "name": "stdout",
     "output_type": "stream",
     "text": [
      "\n",
      "Perplexity:  -11.273734055407212\n",
      "\n",
      "Coherence Score:  0.5271735865343894\n"
     ]
    }
   ],
   "source": [
    "# Compute Perplexity\n",
    "print('\\nPerplexity: ', lda_model.log_perplexity(corpus))  # a measure of how good the model is. lower the better.\n",
    "\n",
    "# Compute Coherence Score\n",
    "coherence_model_lda = CoherenceModel(model=lda_model, texts=data_lemmatized, dictionary=id2word, coherence='c_v')\n",
    "coherence_lda = coherence_model_lda.get_coherence()\n",
    "print('\\nCoherence Score: ', coherence_lda)"
   ]
  },
  {
   "cell_type": "code",
   "execution_count": 21,
   "metadata": {},
   "outputs": [],
   "source": [
    "# supporting function\n",
    "def compute_coherence_values(corpus, dictionary, k):\n",
    "    \n",
    "    lda_model = gensim.models.ldamodel.LdaModel(corpus=corpus,\n",
    "                                           id2word=id2word, #id2word=dictionary, dictionary=dictioanry\n",
    "                                           num_topics=k, \n",
    "                                           random_state=100,\n",
    "                                           chunksize=100,\n",
    "                                           passes=10,\n",
    "                                           alpha='auto',\n",
    "                                           eta=None,\n",
    "                                           per_word_topics=True)\n",
    "    \n",
    "    coherence_model_lda = CoherenceModel(model=lda_model, texts=data_lemmatized, dictionary=id2word, coherence='c_v')\n",
    "    \n",
    "    return coherence_model_lda.get_coherence()"
   ]
  },
  {
   "cell_type": "code",
   "execution_count": 22,
   "metadata": {},
   "outputs": [
    {
     "name": "stderr",
     "output_type": "stream",
     "text": [
      "100%|██████████| 96/96 [4:41:36<00:00, 176.00s/it]  \n"
     ]
    }
   ],
   "source": [
    "import numpy as np\n",
    "import tqdm\n",
    "grid = {}\n",
    "grid['Validation_Set'] = {}\n",
    "# Topics range\n",
    "min_topics = 1\n",
    "max_topics = 50\n",
    "step_size = 1\n",
    "topics_range = range(min_topics, max_topics, step_size)\n",
    "\n",
    "# Validation sets\n",
    "num_of_docs = len(corpus)\n",
    "corpus_sets = [gensim.utils.ClippedCorpus(corpus, int(num_of_docs*0.75)),\n",
    "              corpus]\n",
    "corpus_title = ['75% Corpus','100% Corpus']\n",
    "model_results = {'Validation_Set': [],\n",
    "                 'Topics': [],\n",
    "                 'Coherence': []\n",
    "                }\n",
    "# Can take a long time to run\n",
    "if 1 == 1:\n",
    "    pbar = tqdm.tqdm(total=len(topics_range)*len(corpus_title))\n",
    "    \n",
    "    # iterate through validation corpuses\n",
    "    for i in range(len(corpus_sets)):\n",
    "        # iterate through number of topics\n",
    "        for k in topics_range:\n",
    "           \n",
    "                    # get the coherence score for the given parameters\n",
    "                    cv = compute_coherence_values(corpus=corpus_sets[i], dictionary=id2word, \n",
    "                                                  k=k)\n",
    "                    # Save the model results\n",
    "                    model_results['Validation_Set'].append(corpus_title[i])\n",
    "                    model_results['Topics'].append(k)\n",
    "                    model_results['Coherence'].append(cv)\n",
    "                    \n",
    "                    pbar.update(1)\n",
    "    pd.DataFrame(model_results).to_csv('lda_tuning_results_3.csv', index=False)\n",
    "    pbar.close()"
   ]
  },
  {
   "cell_type": "code",
   "execution_count": 23,
   "metadata": {},
   "outputs": [
    {
     "name": "stdout",
     "output_type": "stream",
     "text": [
      "[2, 3, 4, 5, 6, 7, 8, 9, 10, 11, 12, 13, 14, 15, 16, 17, 18, 19, 20, 21, 22, 23, 24, 25, 26, 27, 28, 29, 30, 31, 32, 33, 34, 35, 36, 37, 38, 39, 40, 41, 42, 43, 44, 45, 46, 47, 48, 49, 2, 3, 4, 5, 6, 7, 8, 9, 10, 11, 12, 13, 14, 15, 16, 17, 18, 19, 20, 21, 22, 23, 24, 25, 26, 27, 28, 29, 30, 31, 32, 33, 34, 35, 36, 37, 38, 39, 40, 41, 42, 43, 44, 45, 46, 47, 48, 49]\n",
      "[0.5639999220453062, 0.4134510143577836, 0.4805086576384838, 0.5578726559079044, 0.5556438294903753, 0.5300922519842863, 0.4565147967675681, 0.5243530129766254, 0.49639490151158244, 0.5009399913965354, 0.48829437854210817, 0.5015877042196504, 0.4735082986399629, 0.5181655362830875, 0.49151707021242097, 0.5117149628672204, 0.5007605289569745, 0.4822819186938179, 0.460534645526535, 0.4886237697082003, 0.4893449166920446, 0.4842133360023087, 0.4472507921084079, 0.463895387078949, 0.46278428513778486, 0.43775948018184124, 0.4773205201308389, 0.5224731385815885, 0.4583037656407138, 0.47720149713174564, 0.478193648534877, 0.46907393046562895, 0.49612684927242867, 0.49968942079411494, 0.4948868608060785, 0.4910392684842509, 0.485795978314622, 0.47290643194412996, 0.4733125813375757, 0.4881563252320888, 0.5025267513977992, 0.497893094428505, 0.4752933854509585, 0.5031551065426315, 0.484483848317508, 0.49180182152926477, 0.5026524399017412, 0.5133828458745212, 0.5543101782519622, 0.5100121954105242, 0.5617450889750171, 0.556162379991811, 0.5298558581887968, 0.5347721693950162, 0.4667539140125066, 0.529042485995545, 0.5047573814189, 0.5276739477474462, 0.49234154981705197, 0.5077518325883141, 0.4927731137118708, 0.499899150378291, 0.5097457676097676, 0.5147774687225265, 0.5145455911420842, 0.49324288847841347, 0.49288861569721343, 0.517319594611715, 0.46749877486380503, 0.48346933666200476, 0.4545968355152869, 0.4740206007114837, 0.46530123298546966, 0.4579377677099566, 0.495050172798622, 0.48730735582057993, 0.46672302875548977, 0.4797184706598412, 0.4731186035597813, 0.49199241454396353, 0.48637843891250165, 0.48514243141832103, 0.501999795004239, 0.47697215466009585, 0.48690595685159516, 0.4781587695037155, 0.48318170002383737, 0.47480979919377303, 0.48398848401834754, 0.46963827618263565, 0.46080167507411435, 0.49671340541748554, 0.4707836568820345, 0.4889760588797078, 0.48560764787185856, 0.5097015350569778]\n"
     ]
    }
   ],
   "source": [
    "print(model_results['Topics'])\n",
    "print(model_results['Coherence'])"
   ]
  },
  {
   "cell_type": "code",
   "execution_count": 46,
   "metadata": {},
   "outputs": [],
   "source": [
    "#Final Model\n",
    "lda_model = gensim.models.LdaModel(corpus=corpus,\n",
    "                                           id2word=id2word,\n",
    "                                           num_topics=4, \n",
    "                                           random_state=400,\n",
    "                                           chunksize=200,\n",
    "                                           passes=10,\n",
    "                                           alpha='auto',\n",
    "                                           )"
   ]
  },
  {
   "cell_type": "code",
   "execution_count": 43,
   "metadata": {},
   "outputs": [
    {
     "name": "stdout",
     "output_type": "stream",
     "text": [
      "[(0,\n",
      "  '0.016*\"line\" + 0.014*\"write\" + 0.012*\"go\" + 0.011*\"would\" + 0.011*\"be\" + '\n",
      "  '0.009*\"get\" + 0.009*\"article\" + 0.008*\"think\" + 0.008*\"good\" + '\n",
      "  '0.007*\"year\"'),\n",
      " (1,\n",
      "  '0.572*\"ax\" + 0.002*\"rlk\" + 0.002*\"lq\" + 0.002*\"tdo\" + 0.002*\"um_um\" + '\n",
      "  '0.001*\"oo\" + 0.001*\"dy\" + 0.001*\"chz\" + 0.001*\"mh\" + 0.001*\"tq\"'),\n",
      " (2,\n",
      "  '0.015*\"line\" + 0.011*\"use\" + 0.009*\"system\" + 0.007*\"key\" + 0.006*\"program\" '\n",
      "  '+ 0.006*\"need\" + 0.006*\"drive\" + 0.006*\"file\" + 0.006*\"thank\" + '\n",
      "  '0.005*\"work\"'),\n",
      " (3,\n",
      "  '0.012*\"people\" + 0.010*\"say\" + 0.009*\"would\" + 0.007*\"write\" + 0.007*\"may\" '\n",
      "  '+ 0.006*\"make\" + 0.006*\"evidence\" + 0.006*\"reason\" + 0.006*\"think\" + '\n",
      "  '0.006*\"believe\"')]\n"
     ]
    }
   ],
   "source": [
    "# Print the Keyword in the 10 topics\n",
    "pprint(lda_model.print_topics(num_words=10))\n",
    "doc_lda = lda_model[corpus]"
   ]
  },
  {
   "cell_type": "code",
   "execution_count": 44,
   "metadata": {},
   "outputs": [
    {
     "name": "stdout",
     "output_type": "stream",
     "text": [
      "\n",
      "Perplexity:  -7.8013424363341946\n",
      "\n",
      "Coherence Score:  0.5488185085714622\n"
     ]
    }
   ],
   "source": [
    "# Compute Perplexity\n",
    "print('\\nPerplexity: ', lda_model.log_perplexity(corpus))  # a measure of how good the model is. lower the better.\n",
    "\n",
    "# Compute Coherence Score\n",
    "coherence_model_lda = CoherenceModel(model=lda_model, texts=data_lemmatized, dictionary=id2word, coherence='c_v')\n",
    "coherence_lda = coherence_model_lda.get_coherence()\n",
    "print('\\nCoherence Score: ', coherence_lda)"
   ]
  },
  {
   "cell_type": "markdown",
   "metadata": {},
   "source": [
    "import numpy as np\n",
    "import tqdm\n",
    "grid = {}\n",
    "grid['Validation_Set'] = {} \n",
    "# Topics range\n",
    "min_topics = 14\n",
    "max_topics = 50\n",
    "step_size = 2\n",
    "topics_range = range(min_topics, max_topics, step_size)\n",
    "# Alpha parameter\n",
    "#alpha = list(np.arange(0.05, 1, 0.3))\n",
    "alpha = ['auto']\n",
    "#alpha = auto\n",
    "\n",
    "# Beta parameter\n",
    "\n",
    "# Validation sets #made changes int code and alpha = auto was giving error\n",
    "num_of_docs = len(corpus)\n",
    "corpus_sets = [gensim.utils.ClippedCorpus(corpus, int(num_of_docs*0.25))] \n",
    "               # gensim.utils.ClippedCorpus(corpus, num_of_docs*0.5), \n",
    "               #gensim.utils.ClippedCorpus(corpus, int(num_of_docs*0.75)), \n",
    "               #corpus]\n",
    "corpus_title = ['25% Corpus']\n",
    "model_results = {'Topics': [],\n",
    "                 'Coherence': [],\n",
    "                 'Alpha':[]\n",
    "                }\n",
    "# Can take a long time to run\n",
    "#if 1 == 1:\n",
    "pbar = tqdm.tqdm(total=250)\n",
    "\n",
    "# iterate through validation corpuses\n",
    "# for i in range(len(corpus_sets)):\n",
    "    # iterate through number of topics\n",
    "for k in topics_range:\n",
    "    print(k)\n",
    "    # iterate through alpha values\n",
    "    for a in alpha:\n",
    "            # get the coherence score for the given parameters\n",
    "        cv = compute_coherence_values(corpus=corpus_sets[0], dictionary=id2word, \n",
    "                                      k=k, a=a)\n",
    "        # Save the model results\n",
    "\n",
    "        model_results['Topics'].append(k)\n",
    "        model_results['Alpha'].append(a)\n",
    "        model_results['Coherence'].append(cv)\n",
    "\n",
    "        pbar.update(1)\n",
    "pd.DataFrame(model_results).to_csv('lda_tuning_results1.csv', index=False)\n",
    "pbar.close()"
   ]
  }
 ],
 "metadata": {
  "kernelspec": {
   "display_name": "Python 3",
   "language": "python",
   "name": "python3"
  },
  "language_info": {
   "codemirror_mode": {
    "name": "ipython",
    "version": 3
   },
   "file_extension": ".py",
   "mimetype": "text/x-python",
   "name": "python",
   "nbconvert_exporter": "python",
   "pygments_lexer": "ipython3",
   "version": "3.8.3"
  }
 },
 "nbformat": 4,
 "nbformat_minor": 4
}
